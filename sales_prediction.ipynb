{
 "cells": [
  {
   "cell_type": "code",
   "execution_count": null,
   "id": "cdec647b-a777-4d2a-9c9f-61810d757464",
   "metadata": {},
   "outputs": [],
   "source": [
    "# Sales Prediction Using Linear Regression\n",
    "This notebook demonstrates a basic sales prediction model using Linear Regression.\n",
    "We will predict sales based on advertising expenditure,target audience segmentation, and platform selection.\n"
   ]
  },
  {
   "cell_type": "code",
   "execution_count": null,
   "id": "63661bd9-2b4f-4c2d-b0dc-dab8ce3e05c0",
   "metadata": {},
   "outputs": [],
   "source": [
    "#Import Libraries\n",
    "import pandas as pd\n",
    "import numpy as np\n",
    "from sklearn.model_selection import train_test_split\n",
    "from sklearn.linear_model import LinearRegression\n",
    "from sklearn.metrics import mean_squared_error, r2_score\n",
    "import matplotlib.pyplot as plt\n",
    "import seaborn as sns\n"
   ]
  },
  {
   "cell_type": "code",
   "execution_count": null,
   "id": "986efc5d-155b-4aac-b508-2d1e5a44a540",
   "metadata": {},
   "outputs": [],
   "source": [
    "#Load the Dataset:\n",
    "# Load the dataset (replace 'your_dataset.csv' with your actual file)\n",
    "data = pd.read_csv('your_dataset.csv')\n",
    "data.head()\n"
   ]
  },
  {
   "cell_type": "code",
   "execution_count": null,
   "id": "ec1b5e56-f6a2-4d0c-b1fe-c9266aea75e7",
   "metadata": {},
   "outputs": [],
   "source": [
    "#Data Preprocessing:\n",
    "# Check for missing values\n",
    "print(data.isnull().sum())\n",
    "\n",
    "# Drop missing values or handle them as required\n",
    "data = data.dropna()\n",
    "\n",
    "# Convert categorical variables to dummy variables\n",
    "data = pd.get_dummies(data, drop_first=True)\n"
   ]
  },
  {
   "cell_type": "code",
   "execution_count": null,
   "id": "147c6ecd-f2ca-48fd-82bb-a1e08a4e0fe7",
   "metadata": {},
   "outputs": [],
   "source": [
    "#Feature Selection:\n",
    "# DeEvaluate the Model:fine features (X) and target (y)\n",
    "X = data[['Advertising_Expenditure', 'Target_Audience_Segmentation', 'Platform_Selection']]\n",
    "y = data['Sales']\n",
    "\n",
    "# Split the data into training and testing sets\n",
    "X_train, X_test, y_train, y_test = train_test_split(X, y, test_size=0.2, random_state=42)\n"
   ]
  },
  {
   "cell_type": "code",
   "execution_count": null,
   "id": "b04632eb-5402-4515-8dac-ff2502ff7780",
   "metadata": {},
   "outputs": [],
   "source": [
    "#Build and Train the Model:\n",
    "# Initialize and train the model\n",
    "model = LinearRegression()\n",
    "model.fit(X_train, y_train)\n",
    "\n",
    "# Make predictions\n",
    "y_pred = model.predict(X_test)\n"
   ]
  },
  {
   "cell_type": "code",
   "execution_count": null,
   "id": "74c11261-8517-474a-b5d6-9f1167fd927e",
   "metadata": {},
   "outputs": [],
   "source": [
    "#Evaluate the Model\n",
    "# Calculate and display metrics\n",
    "mse = mean_squared_error(y_test, y_pred)\n",
    "r2 = r2_score(y_test, y_pred)\n",
    "\n",
    "print(f'Mean Squared Error: {mse}')\n",
    "print(f'R-squared: {r2}')\n"
   ]
  },
  {
   "cell_type": "code",
   "execution_count": null,
   "id": "05cf6001-b1d5-4f6f-9742-462205c8806e",
   "metadata": {},
   "outputs": [],
   "source": [
    "#Visualize the Results:\n",
    "# Scatter plot of actual vs predicted sales\n",
    "plt.figure(figsize=(10,6))\n",
    "sns.scatterplot(x=y_test, y=y_pred)\n",
    "plt.xlabel('Actual Sales')\n",
    "plt.ylabel('Predicted Sales')\n",
    "plt.title('Actual vs. Predicted Sales')\n",
    "plt.show()\n"
   ]
  },
  {
   "cell_type": "code",
   "execution_count": null,
   "id": "6b7c9c00-1be6-4af6-b4f3-fde1788fbbbc",
   "metadata": {},
   "outputs": [],
   "source": [
    "import joblib\n",
    "\n",
    "# Save the trained model to a file\n",
    "joblib.dump(model, 'sales_prediction_model.pkl')\n"
   ]
  }
 ],
 "metadata": {
  "kernelspec": {
   "display_name": "Python 3 (ipykernel)",
   "language": "python",
   "name": "python3"
  },
  "language_info": {
   "codemirror_mode": {
    "name": "ipython",
    "version": 3
   },
   "file_extension": ".py",
   "mimetype": "text/x-python",
   "name": "python",
   "nbconvert_exporter": "python",
   "pygments_lexer": "ipython3",
   "version": "3.12.4"
  }
 },
 "nbformat": 4,
 "nbformat_minor": 5
}
